{
  "nbformat": 4,
  "nbformat_minor": 0,
  "metadata": {
    "colab": {
      "provenance": [],
      "authorship_tag": "ABX9TyPIp22OIwwUkkqTW1ptJUrP",
      "include_colab_link": true
    },
    "kernelspec": {
      "name": "python3",
      "display_name": "Python 3"
    },
    "language_info": {
      "name": "python"
    }
  },
  "cells": [
    {
      "cell_type": "markdown",
      "metadata": {
        "id": "view-in-github",
        "colab_type": "text"
      },
      "source": [
        "<a href=\"https://colab.research.google.com/github/Yamito548/Act-3.2/blob/main/Actividad_3_3_%E2%80%93_IRIS_con_NaiveBayes_y_Cross_Validation.ipynb\" target=\"_parent\"><img src=\"https://colab.research.google.com/assets/colab-badge.svg\" alt=\"Open In Colab\"/></a>"
      ]
    },
    {
      "cell_type": "markdown",
      "source": [
        "# Cross validation"
      ],
      "metadata": {
        "id": "EBv4fSPLVPzO"
      }
    },
    {
      "cell_type": "code",
      "execution_count": 62,
      "metadata": {
        "colab": {
          "base_uri": "https://localhost:8080/",
          "height": 424
        },
        "id": "_WTOzBTYTm9g",
        "outputId": "867d3780-10d6-4043-92a1-f82384e754bd"
      },
      "outputs": [
        {
          "output_type": "execute_result",
          "data": {
            "text/plain": [
              "    species     island  bill_length_mm  bill_depth_mm  flipper_length_mm  \\\n",
              "0    Adelie  Torgersen            39.1           18.7              181.0   \n",
              "1    Adelie  Torgersen            39.5           17.4              186.0   \n",
              "2    Adelie  Torgersen            40.3           18.0              195.0   \n",
              "3    Adelie  Torgersen             NaN            NaN                NaN   \n",
              "4    Adelie  Torgersen            36.7           19.3              193.0   \n",
              "..      ...        ...             ...            ...                ...   \n",
              "339  Gentoo     Biscoe             NaN            NaN                NaN   \n",
              "340  Gentoo     Biscoe            46.8           14.3              215.0   \n",
              "341  Gentoo     Biscoe            50.4           15.7              222.0   \n",
              "342  Gentoo     Biscoe            45.2           14.8              212.0   \n",
              "343  Gentoo     Biscoe            49.9           16.1              213.0   \n",
              "\n",
              "     body_mass_g     sex  \n",
              "0         3750.0    Male  \n",
              "1         3800.0  Female  \n",
              "2         3250.0  Female  \n",
              "3            NaN     NaN  \n",
              "4         3450.0  Female  \n",
              "..           ...     ...  \n",
              "339          NaN     NaN  \n",
              "340       4850.0  Female  \n",
              "341       5750.0    Male  \n",
              "342       5200.0  Female  \n",
              "343       5400.0    Male  \n",
              "\n",
              "[344 rows x 7 columns]"
            ],
            "text/html": [
              "\n",
              "  <div id=\"df-bf6147af-3bdf-469e-987e-a87621d387e2\" class=\"colab-df-container\">\n",
              "    <div>\n",
              "<style scoped>\n",
              "    .dataframe tbody tr th:only-of-type {\n",
              "        vertical-align: middle;\n",
              "    }\n",
              "\n",
              "    .dataframe tbody tr th {\n",
              "        vertical-align: top;\n",
              "    }\n",
              "\n",
              "    .dataframe thead th {\n",
              "        text-align: right;\n",
              "    }\n",
              "</style>\n",
              "<table border=\"1\" class=\"dataframe\">\n",
              "  <thead>\n",
              "    <tr style=\"text-align: right;\">\n",
              "      <th></th>\n",
              "      <th>species</th>\n",
              "      <th>island</th>\n",
              "      <th>bill_length_mm</th>\n",
              "      <th>bill_depth_mm</th>\n",
              "      <th>flipper_length_mm</th>\n",
              "      <th>body_mass_g</th>\n",
              "      <th>sex</th>\n",
              "    </tr>\n",
              "  </thead>\n",
              "  <tbody>\n",
              "    <tr>\n",
              "      <th>0</th>\n",
              "      <td>Adelie</td>\n",
              "      <td>Torgersen</td>\n",
              "      <td>39.1</td>\n",
              "      <td>18.7</td>\n",
              "      <td>181.0</td>\n",
              "      <td>3750.0</td>\n",
              "      <td>Male</td>\n",
              "    </tr>\n",
              "    <tr>\n",
              "      <th>1</th>\n",
              "      <td>Adelie</td>\n",
              "      <td>Torgersen</td>\n",
              "      <td>39.5</td>\n",
              "      <td>17.4</td>\n",
              "      <td>186.0</td>\n",
              "      <td>3800.0</td>\n",
              "      <td>Female</td>\n",
              "    </tr>\n",
              "    <tr>\n",
              "      <th>2</th>\n",
              "      <td>Adelie</td>\n",
              "      <td>Torgersen</td>\n",
              "      <td>40.3</td>\n",
              "      <td>18.0</td>\n",
              "      <td>195.0</td>\n",
              "      <td>3250.0</td>\n",
              "      <td>Female</td>\n",
              "    </tr>\n",
              "    <tr>\n",
              "      <th>3</th>\n",
              "      <td>Adelie</td>\n",
              "      <td>Torgersen</td>\n",
              "      <td>NaN</td>\n",
              "      <td>NaN</td>\n",
              "      <td>NaN</td>\n",
              "      <td>NaN</td>\n",
              "      <td>NaN</td>\n",
              "    </tr>\n",
              "    <tr>\n",
              "      <th>4</th>\n",
              "      <td>Adelie</td>\n",
              "      <td>Torgersen</td>\n",
              "      <td>36.7</td>\n",
              "      <td>19.3</td>\n",
              "      <td>193.0</td>\n",
              "      <td>3450.0</td>\n",
              "      <td>Female</td>\n",
              "    </tr>\n",
              "    <tr>\n",
              "      <th>...</th>\n",
              "      <td>...</td>\n",
              "      <td>...</td>\n",
              "      <td>...</td>\n",
              "      <td>...</td>\n",
              "      <td>...</td>\n",
              "      <td>...</td>\n",
              "      <td>...</td>\n",
              "    </tr>\n",
              "    <tr>\n",
              "      <th>339</th>\n",
              "      <td>Gentoo</td>\n",
              "      <td>Biscoe</td>\n",
              "      <td>NaN</td>\n",
              "      <td>NaN</td>\n",
              "      <td>NaN</td>\n",
              "      <td>NaN</td>\n",
              "      <td>NaN</td>\n",
              "    </tr>\n",
              "    <tr>\n",
              "      <th>340</th>\n",
              "      <td>Gentoo</td>\n",
              "      <td>Biscoe</td>\n",
              "      <td>46.8</td>\n",
              "      <td>14.3</td>\n",
              "      <td>215.0</td>\n",
              "      <td>4850.0</td>\n",
              "      <td>Female</td>\n",
              "    </tr>\n",
              "    <tr>\n",
              "      <th>341</th>\n",
              "      <td>Gentoo</td>\n",
              "      <td>Biscoe</td>\n",
              "      <td>50.4</td>\n",
              "      <td>15.7</td>\n",
              "      <td>222.0</td>\n",
              "      <td>5750.0</td>\n",
              "      <td>Male</td>\n",
              "    </tr>\n",
              "    <tr>\n",
              "      <th>342</th>\n",
              "      <td>Gentoo</td>\n",
              "      <td>Biscoe</td>\n",
              "      <td>45.2</td>\n",
              "      <td>14.8</td>\n",
              "      <td>212.0</td>\n",
              "      <td>5200.0</td>\n",
              "      <td>Female</td>\n",
              "    </tr>\n",
              "    <tr>\n",
              "      <th>343</th>\n",
              "      <td>Gentoo</td>\n",
              "      <td>Biscoe</td>\n",
              "      <td>49.9</td>\n",
              "      <td>16.1</td>\n",
              "      <td>213.0</td>\n",
              "      <td>5400.0</td>\n",
              "      <td>Male</td>\n",
              "    </tr>\n",
              "  </tbody>\n",
              "</table>\n",
              "<p>344 rows × 7 columns</p>\n",
              "</div>\n",
              "    <div class=\"colab-df-buttons\">\n",
              "\n",
              "  <div class=\"colab-df-container\">\n",
              "    <button class=\"colab-df-convert\" onclick=\"convertToInteractive('df-bf6147af-3bdf-469e-987e-a87621d387e2')\"\n",
              "            title=\"Convert this dataframe to an interactive table.\"\n",
              "            style=\"display:none;\">\n",
              "\n",
              "  <svg xmlns=\"http://www.w3.org/2000/svg\" height=\"24px\" viewBox=\"0 -960 960 960\">\n",
              "    <path d=\"M120-120v-720h720v720H120Zm60-500h600v-160H180v160Zm220 220h160v-160H400v160Zm0 220h160v-160H400v160ZM180-400h160v-160H180v160Zm440 0h160v-160H620v160ZM180-180h160v-160H180v160Zm440 0h160v-160H620v160Z\"/>\n",
              "  </svg>\n",
              "    </button>\n",
              "\n",
              "  <style>\n",
              "    .colab-df-container {\n",
              "      display:flex;\n",
              "      gap: 12px;\n",
              "    }\n",
              "\n",
              "    .colab-df-convert {\n",
              "      background-color: #E8F0FE;\n",
              "      border: none;\n",
              "      border-radius: 50%;\n",
              "      cursor: pointer;\n",
              "      display: none;\n",
              "      fill: #1967D2;\n",
              "      height: 32px;\n",
              "      padding: 0 0 0 0;\n",
              "      width: 32px;\n",
              "    }\n",
              "\n",
              "    .colab-df-convert:hover {\n",
              "      background-color: #E2EBFA;\n",
              "      box-shadow: 0px 1px 2px rgba(60, 64, 67, 0.3), 0px 1px 3px 1px rgba(60, 64, 67, 0.15);\n",
              "      fill: #174EA6;\n",
              "    }\n",
              "\n",
              "    .colab-df-buttons div {\n",
              "      margin-bottom: 4px;\n",
              "    }\n",
              "\n",
              "    [theme=dark] .colab-df-convert {\n",
              "      background-color: #3B4455;\n",
              "      fill: #D2E3FC;\n",
              "    }\n",
              "\n",
              "    [theme=dark] .colab-df-convert:hover {\n",
              "      background-color: #434B5C;\n",
              "      box-shadow: 0px 1px 3px 1px rgba(0, 0, 0, 0.15);\n",
              "      filter: drop-shadow(0px 1px 2px rgba(0, 0, 0, 0.3));\n",
              "      fill: #FFFFFF;\n",
              "    }\n",
              "  </style>\n",
              "\n",
              "    <script>\n",
              "      const buttonEl =\n",
              "        document.querySelector('#df-bf6147af-3bdf-469e-987e-a87621d387e2 button.colab-df-convert');\n",
              "      buttonEl.style.display =\n",
              "        google.colab.kernel.accessAllowed ? 'block' : 'none';\n",
              "\n",
              "      async function convertToInteractive(key) {\n",
              "        const element = document.querySelector('#df-bf6147af-3bdf-469e-987e-a87621d387e2');\n",
              "        const dataTable =\n",
              "          await google.colab.kernel.invokeFunction('convertToInteractive',\n",
              "                                                    [key], {});\n",
              "        if (!dataTable) return;\n",
              "\n",
              "        const docLinkHtml = 'Like what you see? Visit the ' +\n",
              "          '<a target=\"_blank\" href=https://colab.research.google.com/notebooks/data_table.ipynb>data table notebook</a>'\n",
              "          + ' to learn more about interactive tables.';\n",
              "        element.innerHTML = '';\n",
              "        dataTable['output_type'] = 'display_data';\n",
              "        await google.colab.output.renderOutput(dataTable, element);\n",
              "        const docLink = document.createElement('div');\n",
              "        docLink.innerHTML = docLinkHtml;\n",
              "        element.appendChild(docLink);\n",
              "      }\n",
              "    </script>\n",
              "  </div>\n",
              "\n",
              "\n",
              "<div id=\"df-968fc805-ce34-4318-bd93-8796e6c47d0a\">\n",
              "  <button class=\"colab-df-quickchart\" onclick=\"quickchart('df-968fc805-ce34-4318-bd93-8796e6c47d0a')\"\n",
              "            title=\"Suggest charts\"\n",
              "            style=\"display:none;\">\n",
              "\n",
              "<svg xmlns=\"http://www.w3.org/2000/svg\" height=\"24px\"viewBox=\"0 0 24 24\"\n",
              "     width=\"24px\">\n",
              "    <g>\n",
              "        <path d=\"M19 3H5c-1.1 0-2 .9-2 2v14c0 1.1.9 2 2 2h14c1.1 0 2-.9 2-2V5c0-1.1-.9-2-2-2zM9 17H7v-7h2v7zm4 0h-2V7h2v10zm4 0h-2v-4h2v4z\"/>\n",
              "    </g>\n",
              "</svg>\n",
              "  </button>\n",
              "\n",
              "<style>\n",
              "  .colab-df-quickchart {\n",
              "      --bg-color: #E8F0FE;\n",
              "      --fill-color: #1967D2;\n",
              "      --hover-bg-color: #E2EBFA;\n",
              "      --hover-fill-color: #174EA6;\n",
              "      --disabled-fill-color: #AAA;\n",
              "      --disabled-bg-color: #DDD;\n",
              "  }\n",
              "\n",
              "  [theme=dark] .colab-df-quickchart {\n",
              "      --bg-color: #3B4455;\n",
              "      --fill-color: #D2E3FC;\n",
              "      --hover-bg-color: #434B5C;\n",
              "      --hover-fill-color: #FFFFFF;\n",
              "      --disabled-bg-color: #3B4455;\n",
              "      --disabled-fill-color: #666;\n",
              "  }\n",
              "\n",
              "  .colab-df-quickchart {\n",
              "    background-color: var(--bg-color);\n",
              "    border: none;\n",
              "    border-radius: 50%;\n",
              "    cursor: pointer;\n",
              "    display: none;\n",
              "    fill: var(--fill-color);\n",
              "    height: 32px;\n",
              "    padding: 0;\n",
              "    width: 32px;\n",
              "  }\n",
              "\n",
              "  .colab-df-quickchart:hover {\n",
              "    background-color: var(--hover-bg-color);\n",
              "    box-shadow: 0 1px 2px rgba(60, 64, 67, 0.3), 0 1px 3px 1px rgba(60, 64, 67, 0.15);\n",
              "    fill: var(--button-hover-fill-color);\n",
              "  }\n",
              "\n",
              "  .colab-df-quickchart-complete:disabled,\n",
              "  .colab-df-quickchart-complete:disabled:hover {\n",
              "    background-color: var(--disabled-bg-color);\n",
              "    fill: var(--disabled-fill-color);\n",
              "    box-shadow: none;\n",
              "  }\n",
              "\n",
              "  .colab-df-spinner {\n",
              "    border: 2px solid var(--fill-color);\n",
              "    border-color: transparent;\n",
              "    border-bottom-color: var(--fill-color);\n",
              "    animation:\n",
              "      spin 1s steps(1) infinite;\n",
              "  }\n",
              "\n",
              "  @keyframes spin {\n",
              "    0% {\n",
              "      border-color: transparent;\n",
              "      border-bottom-color: var(--fill-color);\n",
              "      border-left-color: var(--fill-color);\n",
              "    }\n",
              "    20% {\n",
              "      border-color: transparent;\n",
              "      border-left-color: var(--fill-color);\n",
              "      border-top-color: var(--fill-color);\n",
              "    }\n",
              "    30% {\n",
              "      border-color: transparent;\n",
              "      border-left-color: var(--fill-color);\n",
              "      border-top-color: var(--fill-color);\n",
              "      border-right-color: var(--fill-color);\n",
              "    }\n",
              "    40% {\n",
              "      border-color: transparent;\n",
              "      border-right-color: var(--fill-color);\n",
              "      border-top-color: var(--fill-color);\n",
              "    }\n",
              "    60% {\n",
              "      border-color: transparent;\n",
              "      border-right-color: var(--fill-color);\n",
              "    }\n",
              "    80% {\n",
              "      border-color: transparent;\n",
              "      border-right-color: var(--fill-color);\n",
              "      border-bottom-color: var(--fill-color);\n",
              "    }\n",
              "    90% {\n",
              "      border-color: transparent;\n",
              "      border-bottom-color: var(--fill-color);\n",
              "    }\n",
              "  }\n",
              "</style>\n",
              "\n",
              "  <script>\n",
              "    async function quickchart(key) {\n",
              "      const quickchartButtonEl =\n",
              "        document.querySelector('#' + key + ' button');\n",
              "      quickchartButtonEl.disabled = true;  // To prevent multiple clicks.\n",
              "      quickchartButtonEl.classList.add('colab-df-spinner');\n",
              "      try {\n",
              "        const charts = await google.colab.kernel.invokeFunction(\n",
              "            'suggestCharts', [key], {});\n",
              "      } catch (error) {\n",
              "        console.error('Error during call to suggestCharts:', error);\n",
              "      }\n",
              "      quickchartButtonEl.classList.remove('colab-df-spinner');\n",
              "      quickchartButtonEl.classList.add('colab-df-quickchart-complete');\n",
              "    }\n",
              "    (() => {\n",
              "      let quickchartButtonEl =\n",
              "        document.querySelector('#df-968fc805-ce34-4318-bd93-8796e6c47d0a button');\n",
              "      quickchartButtonEl.style.display =\n",
              "        google.colab.kernel.accessAllowed ? 'block' : 'none';\n",
              "    })();\n",
              "  </script>\n",
              "</div>\n",
              "    </div>\n",
              "  </div>\n"
            ]
          },
          "metadata": {},
          "execution_count": 62
        }
      ],
      "source": [
        "import seaborn as sns\n",
        "import pandas as pd\n",
        "import numpy as np\n",
        "from sklearn.naive_bayes import MultinomialNB\n",
        "from sklearn.model_selection import cross_val_score\n",
        "from sklearn.preprocessing import LabelEncoder\n",
        "from sklearn.model_selection import train_test_split\n",
        "from matplotlib.colors import ListedColormap\n",
        "from sklearn.preprocessing import StandardScaler, MinMaxScaler\n",
        "from sklearn.metrics import accuracy_score\n",
        "#Clasificadores\n",
        "from sklearn.naive_bayes import GaussianNB, MultinomialNB, BernoulliNB, ComplementNB\n",
        "import matplotlib.pyplot as plt\n",
        "penguin = sns.load_dataset(\"penguins\")\n",
        "penguin"
      ]
    },
    {
      "cell_type": "code",
      "source": [
        "penguin[['bill_length_mm', 'bill_depth_mm', 'flipper_length_mm', 'body_mass_g']] = \\\n",
        "    penguin[['bill_length_mm', 'bill_depth_mm', 'flipper_length_mm', 'body_mass_g']].fillna(penguin.mean())"
      ],
      "metadata": {
        "colab": {
          "base_uri": "https://localhost:8080/"
        },
        "id": "S9sSsP1NVvh1",
        "outputId": "78a08313-0677-4084-c3d4-09e49a77cae6"
      },
      "execution_count": 63,
      "outputs": [
        {
          "output_type": "stream",
          "name": "stderr",
          "text": [
            "<ipython-input-63-121cb5fe3b6a>:2: FutureWarning: The default value of numeric_only in DataFrame.mean is deprecated. In a future version, it will default to False. In addition, specifying 'numeric_only=None' is deprecated. Select only valid columns or specify the value of numeric_only to silence this warning.\n",
            "  penguin[['bill_length_mm', 'bill_depth_mm', 'flipper_length_mm', 'body_mass_g']].fillna(penguin.mean())\n"
          ]
        }
      ]
    },
    {
      "cell_type": "code",
      "source": [
        "le = LabelEncoder()\n",
        "penguin['sex'] = le.fit_transform(penguin['sex'])"
      ],
      "metadata": {
        "id": "k2cc6hmpX6ua"
      },
      "execution_count": 64,
      "outputs": []
    },
    {
      "cell_type": "code",
      "source": [
        "penguin['sex'] = penguin['sex'].fillna(penguin['sex'].mode().iloc[0])"
      ],
      "metadata": {
        "id": "aWuI9d7WV3DS"
      },
      "execution_count": 65,
      "outputs": []
    },
    {
      "cell_type": "markdown",
      "source": [
        "# MultinomialNB"
      ],
      "metadata": {
        "id": "EBZcD5tLViaZ"
      }
    },
    {
      "cell_type": "markdown",
      "source": [
        "# Truco cross validation, cortito"
      ],
      "metadata": {
        "id": "kQm8zAuhbXV2"
      }
    },
    {
      "cell_type": "code",
      "source": [
        "# Definir las características (X) y la variable objetivo (y)\n",
        "X = penguin[['bill_length_mm', 'bill_depth_mm', 'flipper_length_mm', 'body_mass_g', 'sex']]\n",
        "y = penguin['species']\n",
        "\n",
        "# Crear el clasificador MultinomialNB()\n",
        "clf = MultinomialNB()\n",
        "\n",
        "# Realizar cross-validation con 5 folds\n",
        "cv_scores = cross_val_score(clf, X, y, cv=5)\n",
        "\n",
        "# Imprimir los resultados\n",
        "print(\"Resultados de Cross-Validation:\")\n",
        "print(cv_scores)\n",
        "print(\"Precisión media: {:.2f}\".format(cv_scores.mean()))"
      ],
      "metadata": {
        "colab": {
          "base_uri": "https://localhost:8080/"
        },
        "id": "hAFqdm1QV5Uq",
        "outputId": "9e03f9db-7b4a-46ec-a0fa-e35a9f883c7f"
      },
      "execution_count": 66,
      "outputs": [
        {
          "output_type": "stream",
          "name": "stdout",
          "text": [
            "Resultados de Cross-Validation:\n",
            "[0.79710145 0.76811594 0.8115942  0.8115942  0.86764706]\n",
            "Precisión media: 0.81\n"
          ]
        }
      ]
    },
    {
      "cell_type": "markdown",
      "source": [
        "# GaussianNB"
      ],
      "metadata": {
        "id": "KOJU5uOFewdR"
      }
    },
    {
      "cell_type": "code",
      "source": [
        "# Definir las características (X) y la variable objetivo (y)\n",
        "X = penguin[['bill_length_mm', 'bill_depth_mm', 'flipper_length_mm', 'body_mass_g', 'sex']]\n",
        "y = penguin['species']\n",
        "\n",
        "# Crear el clasificador MultinomialNB()\n",
        "clf = GaussianNB()\n",
        "\n",
        "# Realizar cross-validation con 5 folds\n",
        "cv_scores = cross_val_score(clf, X, y, cv=5)\n",
        "\n",
        "# Imprimir los resultados\n",
        "print(\"Resultados de Cross-Validation:\")\n",
        "print(cv_scores)\n",
        "print(\"Precisión media: {:.2f}\".format(cv_scores.mean()))"
      ],
      "metadata": {
        "colab": {
          "base_uri": "https://localhost:8080/"
        },
        "id": "69EWBo05erwK",
        "outputId": "b5f4b4e4-8bbe-47b4-850b-18eadddcd45e"
      },
      "execution_count": 67,
      "outputs": [
        {
          "output_type": "stream",
          "name": "stdout",
          "text": [
            "Resultados de Cross-Validation:\n",
            "[0.97101449 0.95652174 0.95652174 0.98550725 0.95588235]\n",
            "Precisión media: 0.97\n"
          ]
        }
      ]
    },
    {
      "cell_type": "markdown",
      "source": [
        "# BernoulliNB"
      ],
      "metadata": {
        "id": "06e5CZCufMYC"
      }
    },
    {
      "cell_type": "code",
      "source": [
        "# Definir las características (X) y la variable objetivo (y)\n",
        "X = penguin[['bill_length_mm', 'bill_depth_mm', 'flipper_length_mm', 'body_mass_g', 'sex']]\n",
        "y = penguin['species']\n",
        "\n",
        "# Crear el clasificador MultinomialNB()\n",
        "clf = BernoulliNB()\n",
        "\n",
        "# Realizar cross-validation con 5 folds\n",
        "cv_scores = cross_val_score(clf, X, y, cv=5)\n",
        "\n",
        "# Imprimir los resultados\n",
        "print(\"Resultados de Cross-Validation:\")\n",
        "print(cv_scores)\n",
        "print(\"Precisión media: {:.2f}\".format(cv_scores.mean()))"
      ],
      "metadata": {
        "colab": {
          "base_uri": "https://localhost:8080/"
        },
        "id": "msKTXtkhe4iH",
        "outputId": "a91a03b1-70ce-4104-c95b-762ef6db6300"
      },
      "execution_count": 68,
      "outputs": [
        {
          "output_type": "stream",
          "name": "stdout",
          "text": [
            "Resultados de Cross-Validation:\n",
            "[0.44927536 0.44927536 0.43478261 0.43478261 0.44117647]\n",
            "Precisión media: 0.44\n"
          ]
        }
      ]
    },
    {
      "cell_type": "markdown",
      "source": [
        "# ComplementNB"
      ],
      "metadata": {
        "id": "q6oqDXIjfSK4"
      }
    },
    {
      "cell_type": "code",
      "source": [
        "# Definir las características (X) y la variable objetivo (y)\n",
        "X = penguin[['bill_length_mm', 'bill_depth_mm', 'flipper_length_mm', 'body_mass_g', 'sex']]\n",
        "y = penguin['species']\n",
        "\n",
        "# Crear el clasificador MultinomialNB()\n",
        "clf = ComplementNB()\n",
        "\n",
        "# Realizar cross-validation con 5 folds\n",
        "cv_scores = cross_val_score(clf, X, y, cv=5)\n",
        "\n",
        "# Imprimir los resultados\n",
        "print(\"Resultados de Cross-Validation:\")\n",
        "print(cv_scores)\n",
        "print(\"Precisión media: {:.2f}\".format(cv_scores.mean()))"
      ],
      "metadata": {
        "colab": {
          "base_uri": "https://localhost:8080/"
        },
        "id": "-diifbsDfRMX",
        "outputId": "f0e7a7db-5ed3-4371-9766-daabd01aa559"
      },
      "execution_count": 70,
      "outputs": [
        {
          "output_type": "stream",
          "name": "stdout",
          "text": [
            "Resultados de Cross-Validation:\n",
            "[0.69565217 0.71014493 0.69565217 0.66666667 0.73529412]\n",
            "Precisión media: 0.70\n"
          ]
        }
      ]
    },
    {
      "cell_type": "markdown",
      "source": [
        "# Cross validation a mano"
      ],
      "metadata": {
        "id": "ugEpF1DbbrHY"
      }
    },
    {
      "cell_type": "code",
      "source": [
        "#Dividamos los datos de entrenamiento\n",
        "X_train, X_test, y_train, y_test = \\\n",
        "        train_test_split(X, y, test_size=.4, random_state=42)\n",
        "\n",
        "# Clasificadores\n",
        "names = [\"GaussianNB\", \"MultiNomialNB\", 'BernouilliNB', 'ComplementNB']\n",
        "classifiers = [GaussianNB(), MultinomialNB(), BernoulliNB(), ComplementNB()]\n",
        "\n",
        "for name, clf in zip(names, classifiers):\n",
        "\n",
        "  # Entrenadr el modelo\n",
        "  clf.fit(X_train, y_train)\n",
        "  # PREDIT AND SCORE\n",
        "  score = clf.score(X_test, y_test) #Returns the mean accuracy on the given test data and labels.\n",
        "  print (\"Modelo: %s = %6.2f\" % (name, score))"
      ],
      "metadata": {
        "colab": {
          "base_uri": "https://localhost:8080/"
        },
        "id": "qPsDaszuYY1b",
        "outputId": "3b781c59-d201-43af-8360-b34cab349edd"
      },
      "execution_count": 69,
      "outputs": [
        {
          "output_type": "stream",
          "name": "stdout",
          "text": [
            "Modelo: GaussianNB =   0.96\n",
            "Modelo: MultiNomialNB =   0.82\n",
            "Modelo: BernouilliNB =   0.46\n",
            "Modelo: ComplementNB =   0.67\n"
          ]
        }
      ]
    },
    {
      "cell_type": "markdown",
      "source": [
        "En este caso, se puede ver que al usar dos formas diferentes de usar cross validation obtenemos resultados un poco diferentes. Por ejemplo que en el que es más sencillo me dió en complementNB un score de 0.70 mientras que el que es más a mano me dio un 0.67. Siendo un poco mejor, y eso pasa con todos. No creo que esto signifique el 100% es mejor el 1º que el 2º habría que revisar bien como hace los calculos que usa el de cross_val_score"
      ],
      "metadata": {
        "id": "_iFwzsJVfZe8"
      }
    }
  ]
}